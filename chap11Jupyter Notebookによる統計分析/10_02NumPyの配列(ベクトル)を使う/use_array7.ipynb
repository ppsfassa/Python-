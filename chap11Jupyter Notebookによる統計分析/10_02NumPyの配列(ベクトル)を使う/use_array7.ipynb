{
 "cells": [
  {
   "cell_type": "code",
   "execution_count": null,
   "metadata": {
    "collapsed": true
   },
   "outputs": [],
   "source": [
    "import numpy as np\n",
    "x = np.array([35, 40, 45, 50, 55, 60], dtype = np.float)"
   ]
  },
  {
   "cell_type": "code",
   "execution_count": null,
   "metadata": {},
   "outputs": [],
   "source": [
    "print('最大値　: ', np.max(x))\n",
    "print('最小値　: ', np.min(x))\n",
    "print('平均値　: ', np.mean(x))\n",
    "print('分　散　: ', np.var(x))\n",
    "print('標準偏差: ', np.std(x))"
   ]
  },
  {
   "cell_type": "code",
   "execution_count": null,
   "metadata": {},
   "outputs": [],
   "source": [
    "print('不偏分散　　: ', np.var(x, ddof=1))\n",
    "print('不偏標準偏差: ', np.std(x, ddof=1))"
   ]
  }
 ],
 "metadata": {
  "kernelspec": {
   "display_name": "Python 3",
   "language": "python",
   "name": "python3"
  },
  "language_info": {
   "codemirror_mode": {
    "name": "ipython",
    "version": 3
   },
   "file_extension": ".py",
   "mimetype": "text/x-python",
   "name": "python",
   "nbconvert_exporter": "python",
   "pygments_lexer": "ipython3",
   "version": "3.6.3"
  }
 },
 "nbformat": 4,
 "nbformat_minor": 2
}
